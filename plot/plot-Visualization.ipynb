{
 "cells": [
  {
   "cell_type": "code",
   "execution_count": 137,
   "metadata": {
    "scrolled": true
   },
   "outputs": [
    {
     "data": {
      "image/png": "[encoded data removed]",
      "text/plain": [
       "<Figure size 576x288 with 2 Axes>"
      ]
     },
     "metadata": {
      "needs_background": "light"
     },
     "output_type": "display_data"
    }
   ],
   "source": [
    "import numpy as np\n",
    "import matplotlib\n",
    "import matplotlib.pyplot as plt\n",
    "\n",
    "np.random.seed(0)\n",
    "matrix = np.zeros((12, 12))\n",
    "for i in range(matrix.shape[0]):\n",
    "    for j in range(matrix.shape[1]):\n",
    "        matrix[i, j] = np.random.rand() * float(np.random.rand()>0.3)\n",
    "        if (i,j) in [(7,0),(7,1),(7,2),(7,3),(7,8),(7,9),(7,10),(7,11) ]:\n",
    "            matrix[i, j] = 0\n",
    "        if (i,j) in [(7,4)]:\n",
    "            matrix[i, j] = 0.2\n",
    "        if (i,j) in [(7,5)]:\n",
    "            matrix[i, j] = 0.4\n",
    "        if (i,j) in [(7,6)]:\n",
    "            matrix[i, j] = 0.6\n",
    "        if (i,j) in [(7,7)]:\n",
    "            matrix[i, j] = 0.8\n",
    "\n",
    "\n",
    "fig, axes = plt.subplots(figsize=(8, 4))\n",
    "plt.imshow(matrix, cmap='YlOrBr')\n",
    "plt.colorbar()\n",
    "plt.xticks(())\n",
    "plt.yticks(())\n",
    "plt.savefig('111.svg')\n",
    "plt.show()"
   ]
  },
  {
   "cell_type": "code",
   "execution_count": 1,
   "metadata": {},
   "outputs": [
    {
     "data": {
      "image/png": "[encoded data removed]",
      "text/plain": [
       "<Figure size 576x288 with 2 Axes>"
      ]
     },
     "metadata": {
      "needs_background": "light"
     },
     "output_type": "display_data"
    }
   ],
   "source": [
    "import numpy as np\n",
    "import matplotlib\n",
    "import matplotlib.pyplot as plt\n",
    "\n",
    "np.random.seed(0)\n",
    "matrix = np.zeros((10, 10))\n",
    "for i in range(matrix.shape[0]):\n",
    "    for j in range(matrix.shape[1]):\n",
    "        if i == j:\n",
    "            matrix[i, j] = np.random.rand()\n",
    "        else:\n",
    "            matrix[i, j] = 0\n",
    "#         if (i,j) in [(7,0),(7,1),(7,2),(7,3),(7,8),(7,9),(7,10),(7,11) ]:\n",
    "#             matrix[i, j] = 0\n",
    "#         if (i,j) in [(7,4)]:\n",
    "#             matrix[i, j] = 0.2\n",
    "#         if (i,j) in [(7,5)]:\n",
    "#             matrix[i, j] = 0.4\n",
    "#         if (i,j) in [(7,6)]:\n",
    "#             matrix[i, j] = 0.6\n",
    "#         if (i,j) in [(7,7)]:\n",
    "#             matrix[i, j] = 0.8\n",
    "\n",
    "\n",
    "fig, axes = plt.subplots(figsize=(8, 4))\n",
    "plt.imshow(matrix, cmap='YlOrBr')\n",
    "# Minor ticks\n",
    "plt.xticks(np.arange(-.5, 10, 1));\n",
    "plt.yticks(np.arange(-.5, 10, 1));\n",
    "\n",
    "# Gridlines based on minor ticks\n",
    "plt.grid(color='gray', linestyle='-', linewidth=1)\n",
    "plt.colorbar()\n",
    "plt.savefig('222.svg')\n",
    "plt.show()"
   ]
  },
  {
   "cell_type": "code",
   "execution_count": 133,
   "metadata": {},
   "outputs": [
    {
     "data": {
      "image/png": "[encoded data removed]",
      "text/plain": [
       "<Figure size 576x288 with 2 Axes>"
      ]
     },
     "metadata": {
      "needs_background": "light"
     },
     "output_type": "display_data"
    }
   ],
   "source": [
    "import numpy as np\n",
    "import matplotlib\n",
    "import matplotlib.pyplot as plt\n",
    "\n",
    "matrix = np.array([[0.2, 0.1, 0.4, 0.4],\n",
    "             [0, 0, 0, 0],\n",
    "             [0.5, 0.8, 0.5, 0.1],\n",
    "             [0, 0, 0, 0],\n",
    "             [0.1, 0, 0, 0],\n",
    "             [0, 0, 0, 0],\n",
    "             [0, 0, 0, 0],\n",
    "             [0.2, 0.6, 0.6, 0.1],\n",
    "             [0.2, 0.4, 0.8, 0.4],\n",
    "             [0.2, 0.4, 0.8, 0.4],\n",
    "             [0, 0, 0, 0],\n",
    "             [0, 0, 0, 0]])\n",
    "np.random.seed(0)\n",
    "matrix = np.zeros((12, 4))\n",
    "for i in range(matrix.shape[0]):\n",
    "    for j in range(matrix.shape[1]):\n",
    "        matrix[i, j] = np.random.rand() * float(np.random.rand()>0.3)\n",
    "        if (i,j) in [(0,2),(1,2),(2,2),(3,2),(8,2),(9,2),(10,2),(11,2) ]:\n",
    "            matrix[i, j] = 0\n",
    "        if (i,j) in [(4,2)]:\n",
    "            matrix[i, j] = 0.2\n",
    "        if (i,j) in [(5,2)]:\n",
    "            matrix[i, j] = 0.4\n",
    "        if (i,j) in [(6,2)]:\n",
    "            matrix[i, j] = 0.6\n",
    "        if (i,j) in [(7,2)]:\n",
    "            matrix[i, j] = 0.8\n",
    "\n",
    "\n",
    "fig, axes = plt.subplots(figsize=(8, 4))\n",
    "plt.imshow(matrix, cmap='YlOrBr')\n",
    "plt.colorbar()\n",
    "plt.xticks(())\n",
    "plt.yticks(())\n",
    "plt.savefig('111.svg')\n",
    "plt.show()"
   ]
  },
  {
   "cell_type": "code",
   "execution_count": 131,
   "metadata": {},
   "outputs": [
    {
     "data": {
      "image/png": "[encoded data removed]",
      "text/plain": [
       "<Figure size 576x288 with 2 Axes>"
      ]
     },
     "metadata": {
      "needs_background": "light"
     },
     "output_type": "display_data"
    }
   ],
   "source": [
    "import numpy as np\n",
    "import matplotlib\n",
    "import matplotlib.pyplot as plt\n",
    "\n",
    "np.random.seed(0)\n",
    "matrix = np.zeros((12, 12))\n",
    "for i in range(matrix.shape[0]):\n",
    "    for j in range(matrix.shape[1]):\n",
    "        matrix[i, j] = (np.random.rand() * float(np.random.rand()>0.3))\n",
    "        if (i,j) in [(7,0),(7,1),(7,2),(7,3),(7,8),(7,9),(7,10),(7,11) ]:\n",
    "            matrix[i, j] = 0\n",
    "        if (i,j) in [(7,4)]:\n",
    "            matrix[i, j] = 0.2\n",
    "        if (i,j) in [(7,5)]:\n",
    "            matrix[i, j] = 0.4\n",
    "        if (i,j) in [(7,6)]:\n",
    "            matrix[i, j] = 0.6\n",
    "        if (i,j) in [(7,7)]:\n",
    "            matrix[i, j] = 0.8\n",
    "            \n",
    "matrix2 = matrix.copy()\n",
    "for i in range(matrix2.shape[0]):\n",
    "    for j in range(matrix2.shape[1]):\n",
    "        if matrix[i, j] < 0.01:\n",
    "            matrix2[i, j] = 0.5\n",
    "        else:\n",
    "            matrix2[i, j] = 1 if np.random.rand()>0.5 else 0\n",
    "matrix2 -= 0.5\n",
    "\n",
    "fig, axes = plt.subplots(figsize=(8, 4))\n",
    "plt.imshow(matrix2, cmap='bwr')\n",
    "plt.colorbar()\n",
    "plt.xticks(())\n",
    "plt.yticks(())\n",
    "plt.savefig('222.svg')\n",
    "plt.show()"
   ]
  },
  {
   "cell_type": "code",
   "execution_count": 104,
   "metadata": {},
   "outputs": [
    {
     "name": "stdout",
     "output_type": "stream",
     "text": [
      "True\n"
     ]
    }
   ],
   "source": [
    "print((1, 2) in [(1, 2)])"
   ]
  },
  {
   "cell_type": "code",
   "execution_count": 15,
   "metadata": {},
   "outputs": [
    {
     "name": "stdout",
     "output_type": "stream",
     "text": [
      "[[0.36787944 0.44822088 0.51979489 0.57375342 0.60279818 0.60279818\n",
      "  0.57375342 0.51979489 0.44822088 0.36787944]\n",
      " [0.44822088 0.54610814 0.63331324 0.69905581 0.73444367 0.73444367\n",
      "  0.69905581 0.63331324 0.54610814 0.44822088]\n",
      " [0.51979489 0.63331324 0.73444367 0.81068432 0.85172308 0.85172308\n",
      "  0.81068432 0.73444367 0.63331324 0.51979489]\n",
      " [0.57375342 0.69905581 0.81068432 0.89483932 0.9401382  0.9401382\n",
      "  0.89483932 0.81068432 0.69905581 0.57375342]\n",
      " [0.60279818 0.73444367 0.85172308 0.9401382  0.98773022 0.98773022\n",
      "  0.9401382  0.85172308 0.73444367 0.60279818]\n",
      " [0.60279818 0.73444367 0.85172308 0.9401382  0.98773022 0.98773022\n",
      "  0.9401382  0.85172308 0.73444367 0.60279818]\n",
      " [0.57375342 0.69905581 0.81068432 0.89483932 0.9401382  0.9401382\n",
      "  0.89483932 0.81068432 0.69905581 0.57375342]\n",
      " [0.51979489 0.63331324 0.73444367 0.81068432 0.85172308 0.85172308\n",
      "  0.81068432 0.73444367 0.63331324 0.51979489]\n",
      " [0.44822088 0.54610814 0.63331324 0.69905581 0.73444367 0.73444367\n",
      "  0.69905581 0.63331324 0.54610814 0.44822088]\n",
      " [0.36787944 0.44822088 0.51979489 0.57375342 0.60279818 0.60279818\n",
      "  0.57375342 0.51979489 0.44822088 0.36787944]]\n"
     ]
    }
   ],
   "source": [
    "import numpy as np\n",
    "import matplotlib.pyplot as plt\n",
    "\n",
    "X,Y=np.meshgrid(np.linspace(-1,1,10),np.linspace(-1,1,10));\n",
    "mu,sigma=0,1; #suppose that mux=muy=mu=0 and sigmax=sigmay=sigma\n",
    "G=np.exp(-((X-mu)**2+(Y-mu)**2)/2.0*sigma**2)\n",
    "print(G)\n",
    "# plt.imshow(matrix)\n",
    "# plt.show()"
   ]
  },
  {
   "cell_type": "code",
   "execution_count": 49,
   "metadata": {},
   "outputs": [
    {
     "data": {
      "image/png": "[encoded data removed]",
      "text/plain": [
       "<Figure size 720x720 with 1 Axes>"
      ]
     },
     "metadata": {},
     "output_type": "display_data"
    },
    {
     "data": {
      "image/png": "[encoded data removed]",
      "text/plain": [
       "<Figure size 720x720 with 1 Axes>"
      ]
     },
     "metadata": {},
     "output_type": "display_data"
    }
   ],
   "source": [
    "import numpy as np\n",
    "import matplotlib\n",
    "import matplotlib.pyplot as plt\n",
    "\n",
    "X,Y=np.meshgrid(np.linspace(-1,1,12),np.linspace(-1,1,12));\n",
    "mu,sigma=0.5,1; #suppose that mux=muy=mu=0 and sigmax=sigmay=sigma\n",
    "G=np.exp(-((X-mu)**2+(Y-mu)**2)/2.0*sigma**2)\n",
    "\n",
    "# for i in range(G.shape[0]):\n",
    "#     for j in range(G.shape[1]):\n",
    "#         G[i, j] = float(np.random.rand()>0.3) * G[i, j]\n",
    "        \n",
    "plt.imshow(G, cmap='jet')\n",
    "plt.xticks(())\n",
    "plt.yticks(())\n",
    "plt.savefig('111.svg')\n",
    "plt.show()\n",
    "\n",
    "plt.imshow(G, cmap='gray')\n",
    "plt.xticks(())\n",
    "plt.yticks(())\n",
    "plt.savefig('222.svg')\n",
    "plt.show()"
   ]
  },
  {
   "cell_type": "code",
   "execution_count": null,
   "metadata": {},
   "outputs": [],
   "source": []
  },
  {
   "cell_type": "code",
   "execution_count": 135,
   "metadata": {},
   "outputs": [
    {
     "data": {
      "image/png": "[encoded data removed]",
      "text/plain": [
       "<Figure size 720x720 with 2 Axes>"
      ]
     },
     "metadata": {
      "needs_background": "light"
     },
     "output_type": "display_data"
    }
   ],
   "source": [
    "import numpy as np\n",
    "import matplotlib\n",
    "import matplotlib.pyplot as plt\n",
    "\n",
    "# X,Y=np.meshgrid(np.linspace(-1,1,12),np.linspace(-1,1,12));\n",
    "# mu,sigma=0.5,1; #suppose that mux=muy=mu=0 and sigmax=sigmay=sigma\n",
    "# G=np.exp(-((X-mu)**2+(Y-mu)**2)/2.0*sigma**2)\n",
    "\n",
    "G = np.zeros((12, 4))\n",
    "for i in range(G.shape[0]):\n",
    "    for j in range(G.shape[1]):\n",
    "        G[i, j] = 0.\n",
    "fig, ax = plt.subplots()\n",
    "c = ax.imshow(G, cmap='bwr')\n",
    "# for i in range(G.shape[0]):\n",
    "#     for j in range(G.shape[1]):\n",
    "#         text = ax.text(j, i, '{}'.format('\\\\' if G[i, j]==1.0 else '\\\\'), ha=\"center\", va=\"center\", color=\"green\")\n",
    "fig.colorbar(c)\n",
    "# plt.xticks(())\n",
    "# plt.yticks(())\n",
    "ax.set_xticks(np.arange(-.5, 4, 1))\n",
    "ax.set_yticks(np.arange(-.5, 12, 1))\n",
    "\n",
    "im = plt.gca()\n",
    "im.grid(color='gray', linestyle='-', linewidth=2)\n",
    "plt.savefig('333.svg')\n",
    "# ax.set_xticks(())\n",
    "# ax.set_yticks(())\n",
    "\n",
    "plt.show()"
   ]
  },
  {
   "cell_type": "code",
   "execution_count": 138,
   "metadata": {},
   "outputs": [
    {
     "data": {
      "text/plain": [
       "'\"--epochs 200 --batch-size 50 --test-batch-size 50 --lr 0.0001 --topology CONV_64_5_1_2_CONV_128_5_1_2_FC_1000_FC_10 --spike-window 20 --randKill 1 --codename test --train-mode BRP --quickexit --gpu 1\"'"
      ]
     },
     "execution_count": 138,
     "metadata": {},
     "output_type": "execute_result"
    }
   ],
   "source": [
    "a = '\"--epochs\", \"200\", \"--batch-size\", \"50\", \"--test-batch-size\", \"50\", \"--lr\", \"0.0001\", \"--topology\", \"CONV_64_5_1_2_CONV_128_5_1_2_FC_1000_FC_10\", \"--spike-window\", \"20\", \"--randKill\", \"1\", \"--codename\", \"test\", \"--train-mode\", \"BRP\", \"--quickexit\", \"--gpu\", \"1\"'\n",
    "a.replace('\", \"', ' ')"
   ]
  },
  {
   "cell_type": "code",
   "execution_count": 139,
   "metadata": {},
   "outputs": [
    {
     "data": {
      "text/plain": [
       "65807.24970294774"
      ]
     },
     "execution_count": 139,
     "metadata": {},
     "output_type": "execute_result"
    }
   ],
   "source": [
    "4043/0.061437"
   ]
  },
  {
   "cell_type": "code",
   "execution_count": 140,
   "metadata": {},
   "outputs": [
    {
     "data": {
      "text/plain": [
       "65805.98162612814"
      ]
     },
     "execution_count": 140,
     "metadata": {},
     "output_type": "execute_result"
    }
   ],
   "source": [
    "1626/0.024709"
   ]
  },
  {
   "cell_type": "code",
   "execution_count": 141,
   "metadata": {},
   "outputs": [
    {
     "data": {
      "text/plain": [
       "65805.3213620935"
      ]
     },
     "execution_count": 141,
     "metadata": {},
     "output_type": "execute_result"
    }
   ],
   "source": [
    "1202/0.018266"
   ]
  },
  {
   "cell_type": "code",
   "execution_count": 143,
   "metadata": {},
   "outputs": [
    {
     "data": {
      "text/plain": [
       "66666.66666666667"
      ]
     },
     "execution_count": 143,
     "metadata": {},
     "output_type": "execute_result"
    }
   ],
   "source": [
    "1/0.000015"
   ]
  },
  {
   "cell_type": "code",
   "execution_count": 145,
   "metadata": {},
   "outputs": [
    {
     "data": {
      "text/plain": [
       "65805.3213620935"
      ]
     },
     "execution_count": 145,
     "metadata": {},
     "output_type": "execute_result"
    }
   ],
   "source": [
    "1202/0.018266"
   ]
  },
  {
   "cell_type": "code",
   "execution_count": 151,
   "metadata": {},
   "outputs": [
    {
     "data": {
      "text/plain": [
       "0.015606242496998799"
      ]
     },
     "execution_count": 151,
     "metadata": {},
     "output_type": "execute_result"
    }
   ],
   "source": [
    "1027/65807"
   ]
  },
  {
   "cell_type": "code",
   "execution_count": 1,
   "metadata": {
    "scrolled": true
   },
   "outputs": [
    {
     "ename": "NameError",
     "evalue": "name 'sm' is not defined",
     "output_type": "error",
     "traceback": [
      "\u001b[1;31m---------------------------------------------------------------------------\u001b[0m",
      "\u001b[1;31mNameError\u001b[0m                                 Traceback (most recent call last)",
      "\u001b[1;32m<ipython-input-1-d4699dc5d2a3>\u001b[0m in \u001b[0;36m<module>\u001b[1;34m\u001b[0m\n\u001b[1;32m----> 1\u001b[1;33m \u001b[0mtt\u001b[0m \u001b[1;33m=\u001b[0m \u001b[1;33m(\u001b[0m\u001b[0msm\u001b[0m\u001b[1;33m-\u001b[0m\u001b[0mm\u001b[0m\u001b[1;33m)\u001b[0m\u001b[1;33m/\u001b[0m\u001b[0mnp\u001b[0m\u001b[1;33m.\u001b[0m\u001b[0msqrt\u001b[0m\u001b[1;33m(\u001b[0m\u001b[0msv\u001b[0m\u001b[1;33m/\u001b[0m\u001b[0mfloat\u001b[0m\u001b[1;33m(\u001b[0m\u001b[0mn\u001b[0m\u001b[1;33m)\u001b[0m\u001b[1;33m)\u001b[0m  \u001b[1;31m# t-statistic for mean\u001b[0m\u001b[1;33m\u001b[0m\u001b[1;33m\u001b[0m\u001b[0m\n\u001b[0m\u001b[0;32m      2\u001b[0m \u001b[0mpval\u001b[0m \u001b[1;33m=\u001b[0m \u001b[0mstats\u001b[0m\u001b[1;33m.\u001b[0m\u001b[0mt\u001b[0m\u001b[1;33m.\u001b[0m\u001b[0msf\u001b[0m\u001b[1;33m(\u001b[0m\u001b[0mnp\u001b[0m\u001b[1;33m.\u001b[0m\u001b[0mabs\u001b[0m\u001b[1;33m(\u001b[0m\u001b[0mtt\u001b[0m\u001b[1;33m)\u001b[0m\u001b[1;33m,\u001b[0m \u001b[0mn\u001b[0m\u001b[1;33m-\u001b[0m\u001b[1;36m1\u001b[0m\u001b[1;33m)\u001b[0m\u001b[1;33m*\u001b[0m\u001b[1;36m2\u001b[0m  \u001b[1;31m# two-sided pvalue = Prob(abs(t)>tt)\u001b[0m\u001b[1;33m\u001b[0m\u001b[1;33m\u001b[0m\u001b[0m\n\u001b[0;32m      3\u001b[0m \u001b[0mprint\u001b[0m\u001b[1;33m(\u001b[0m\u001b[1;34m't-statistic = %6.3f pvalue = %6.4f'\u001b[0m \u001b[1;33m%\u001b[0m \u001b[1;33m(\u001b[0m\u001b[0mtt\u001b[0m\u001b[1;33m,\u001b[0m \u001b[0mpval\u001b[0m\u001b[1;33m)\u001b[0m\u001b[1;33m)\u001b[0m\u001b[1;33m\u001b[0m\u001b[1;33m\u001b[0m\u001b[0m\n",
      "\u001b[1;31mNameError\u001b[0m: name 'sm' is not defined"
     ]
    }
   ],
   "source": [
    "tt = (sm-m)/np.sqrt(sv/float(n))  # t-statistic for mean\n",
    "pval = stats.t.sf(np.abs(tt), n-1)*2  # two-sided pvalue = Prob(abs(t)>tt)\n",
    "print('t-statistic = %6.3f pvalue = %6.4f' % (tt, pval))"
   ]
  },
  {
   "cell_type": "code",
   "execution_count": null,
   "metadata": {},
   "outputs": [],
   "source": []
  }
 ],
 "metadata": {
  "kernelspec": {
   "display_name": "Python 3",
   "language": "python",
   "name": "python3"
  },
  "language_info": {
   "codemirror_mode": {
    "name": "ipython",
    "version": 3
   },
   "file_extension": ".py",
   "mimetype": "text/x-python",
   "name": "python",
   "nbconvert_exporter": "python",
   "pygments_lexer": "ipython3",
   "version": "3.7.4"
  },
  "toc": {
   "base_numbering": 1,
   "nav_menu": {},
   "number_sections": true,
   "sideBar": true,
   "skip_h1_title": false,
   "title_cell": "Table of Contents",
   "title_sidebar": "Contents",
   "toc_cell": false,
   "toc_position": {},
   "toc_section_display": true,
   "toc_window_display": false
  }
 },
 "nbformat": 4,
 "nbformat_minor": 4
}
